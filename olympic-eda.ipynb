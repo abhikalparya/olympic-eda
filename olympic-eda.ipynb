{
 "cells": [
  {
   "attachments": {},
   "cell_type": "markdown",
   "metadata": {},
   "source": [
    "## 📥 Importing Libraries"
   ]
  },
  {
   "cell_type": "code",
   "execution_count": 2,
   "metadata": {},
   "outputs": [],
   "source": [
    "import pandas as pd\n",
    "import numpy as np\n",
    "import matplotlib.pyplot as plt\n",
    "import seaborn as sns\n",
    "import plotly.express as px\n",
    "from matplotlib.colors import ListedColormap"
   ]
  },
  {
   "attachments": {},
   "cell_type": "markdown",
   "metadata": {},
   "source": [
    "## 🎨Setting The Style And Color Palette"
   ]
  },
  {
   "cell_type": "code",
   "execution_count": 3,
   "metadata": {},
   "outputs": [
    {
     "name": "stdout",
     "output_type": "stream",
     "text": [
      "THEME\n"
     ]
    },
    {
     "data": {
      "image/png": "[encoded data removed]",
      "text/plain": [
       "<Figure size 360x72 with 1 Axes>"
      ]
     },
     "metadata": {},
     "output_type": "display_data"
    }
   ],
   "source": [
    "#Lets set the style of all our seaborn based plots\n",
    "plt.style.use(['ggplot'])\n",
    "# Setting the theme of our plots\n",
    "theme = [\"#0a2e36\", \"#27FB6B\",\"#14cc60\",\"#036d19\",\"#09a129\"]\n",
    "print('THEME')\n",
    "sns.palplot(sns.color_palette(theme))\n",
    "palette= sns.set_palette(sns.color_palette(theme))"
   ]
  },
  {
   "attachments": {},
   "cell_type": "markdown",
   "metadata": {},
   "source": [
    "## 🧹 Data Preparation and Cleaning\n",
    "1. Load the file using pandas\n",
    "2. Look for some of the information about the data and the columns\n",
    "3. Fix any of the missing or incorrect values"
   ]
  },
  {
   "cell_type": "code",
   "execution_count": 7,
   "metadata": {},
   "outputs": [
    {
     "data": {
      "text/html": [
       "<div>\n",
       "<style scoped>\n",
       "    .dataframe tbody tr th:only-of-type {\n",
       "        vertical-align: middle;\n",
       "    }\n",
       "\n",
       "    .dataframe tbody tr th {\n",
       "        vertical-align: top;\n",
       "    }\n",
       "\n",
       "    .dataframe thead th {\n",
       "        text-align: right;\n",
       "    }\n",
       "</style>\n",
       "<table border=\"1\" class=\"dataframe\">\n",
       "  <thead>\n",
       "    <tr style=\"text-align: right;\">\n",
       "      <th></th>\n",
       "      <th>ID</th>\n",
       "      <th>Name</th>\n",
       "      <th>Sex</th>\n",
       "      <th>Age</th>\n",
       "      <th>Height</th>\n",
       "      <th>Weight</th>\n",
       "      <th>Team</th>\n",
       "      <th>NOC</th>\n",
       "      <th>Games</th>\n",
       "      <th>Year</th>\n",
       "      <th>Season</th>\n",
       "      <th>City</th>\n",
       "      <th>Sport</th>\n",
       "      <th>Event</th>\n",
       "      <th>Medal</th>\n",
       "    </tr>\n",
       "  </thead>\n",
       "  <tbody>\n",
       "    <tr>\n",
       "      <th>0</th>\n",
       "      <td>1</td>\n",
       "      <td>A Dijiang</td>\n",
       "      <td>M</td>\n",
       "      <td>24.0</td>\n",
       "      <td>180.0</td>\n",
       "      <td>80.0</td>\n",
       "      <td>China</td>\n",
       "      <td>CHN</td>\n",
       "      <td>1992 Summer</td>\n",
       "      <td>1992</td>\n",
       "      <td>Summer</td>\n",
       "      <td>Barcelona</td>\n",
       "      <td>Basketball</td>\n",
       "      <td>Basketball Men's Basketball</td>\n",
       "      <td>NaN</td>\n",
       "    </tr>\n",
       "    <tr>\n",
       "      <th>1</th>\n",
       "      <td>2</td>\n",
       "      <td>A Lamusi</td>\n",
       "      <td>M</td>\n",
       "      <td>23.0</td>\n",
       "      <td>170.0</td>\n",
       "      <td>60.0</td>\n",
       "      <td>China</td>\n",
       "      <td>CHN</td>\n",
       "      <td>2012 Summer</td>\n",
       "      <td>2012</td>\n",
       "      <td>Summer</td>\n",
       "      <td>London</td>\n",
       "      <td>Judo</td>\n",
       "      <td>Judo Men's Extra-Lightweight</td>\n",
       "      <td>NaN</td>\n",
       "    </tr>\n",
       "    <tr>\n",
       "      <th>2</th>\n",
       "      <td>3</td>\n",
       "      <td>Gunnar Nielsen Aaby</td>\n",
       "      <td>M</td>\n",
       "      <td>24.0</td>\n",
       "      <td>NaN</td>\n",
       "      <td>NaN</td>\n",
       "      <td>Denmark</td>\n",
       "      <td>DEN</td>\n",
       "      <td>1920 Summer</td>\n",
       "      <td>1920</td>\n",
       "      <td>Summer</td>\n",
       "      <td>Antwerpen</td>\n",
       "      <td>Football</td>\n",
       "      <td>Football Men's Football</td>\n",
       "      <td>NaN</td>\n",
       "    </tr>\n",
       "    <tr>\n",
       "      <th>3</th>\n",
       "      <td>4</td>\n",
       "      <td>Edgar Lindenau Aabye</td>\n",
       "      <td>M</td>\n",
       "      <td>34.0</td>\n",
       "      <td>NaN</td>\n",
       "      <td>NaN</td>\n",
       "      <td>Denmark/Sweden</td>\n",
       "      <td>DEN</td>\n",
       "      <td>1900 Summer</td>\n",
       "      <td>1900</td>\n",
       "      <td>Summer</td>\n",
       "      <td>Paris</td>\n",
       "      <td>Tug-Of-War</td>\n",
       "      <td>Tug-Of-War Men's Tug-Of-War</td>\n",
       "      <td>Gold</td>\n",
       "    </tr>\n",
       "    <tr>\n",
       "      <th>4</th>\n",
       "      <td>5</td>\n",
       "      <td>Christine Jacoba Aaftink</td>\n",
       "      <td>F</td>\n",
       "      <td>21.0</td>\n",
       "      <td>185.0</td>\n",
       "      <td>82.0</td>\n",
       "      <td>Netherlands</td>\n",
       "      <td>NED</td>\n",
       "      <td>1988 Winter</td>\n",
       "      <td>1988</td>\n",
       "      <td>Winter</td>\n",
       "      <td>Calgary</td>\n",
       "      <td>Speed Skating</td>\n",
       "      <td>Speed Skating Women's 500 metres</td>\n",
       "      <td>NaN</td>\n",
       "    </tr>\n",
       "  </tbody>\n",
       "</table>\n",
       "</div>"
      ],
      "text/plain": [
       "   ID                      Name Sex   Age  Height  Weight            Team  \\\n",
       "0   1                 A Dijiang   M  24.0   180.0    80.0           China   \n",
       "1   2                  A Lamusi   M  23.0   170.0    60.0           China   \n",
       "2   3       Gunnar Nielsen Aaby   M  24.0     NaN     NaN         Denmark   \n",
       "3   4      Edgar Lindenau Aabye   M  34.0     NaN     NaN  Denmark/Sweden   \n",
       "4   5  Christine Jacoba Aaftink   F  21.0   185.0    82.0     Netherlands   \n",
       "\n",
       "   NOC        Games  Year  Season       City          Sport  \\\n",
       "0  CHN  1992 Summer  1992  Summer  Barcelona     Basketball   \n",
       "1  CHN  2012 Summer  2012  Summer     London           Judo   \n",
       "2  DEN  1920 Summer  1920  Summer  Antwerpen       Football   \n",
       "3  DEN  1900 Summer  1900  Summer      Paris     Tug-Of-War   \n",
       "4  NED  1988 Winter  1988  Winter    Calgary  Speed Skating   \n",
       "\n",
       "                              Event Medal  \n",
       "0       Basketball Men's Basketball   NaN  \n",
       "1      Judo Men's Extra-Lightweight   NaN  \n",
       "2           Football Men's Football   NaN  \n",
       "3       Tug-Of-War Men's Tug-Of-War  Gold  \n",
       "4  Speed Skating Women's 500 metres   NaN  "
      ]
     },
     "execution_count": 7,
     "metadata": {},
     "output_type": "execute_result"
    }
   ],
   "source": [
    "path_1 = './data/athlete_events.csv'\n",
    "df_1 = pd.read_csv(path_1)\n",
    "df_1.head()"
   ]
  },
  {
   "cell_type": "code",
   "execution_count": 9,
   "metadata": {},
   "outputs": [
    {
     "data": {
      "text/html": [
       "<div>\n",
       "<style scoped>\n",
       "    .dataframe tbody tr th:only-of-type {\n",
       "        vertical-align: middle;\n",
       "    }\n",
       "\n",
       "    .dataframe tbody tr th {\n",
       "        vertical-align: top;\n",
       "    }\n",
       "\n",
       "    .dataframe thead th {\n",
       "        text-align: right;\n",
       "    }\n",
       "</style>\n",
       "<table border=\"1\" class=\"dataframe\">\n",
       "  <thead>\n",
       "    <tr style=\"text-align: right;\">\n",
       "      <th></th>\n",
       "      <th>NOC</th>\n",
       "      <th>region</th>\n",
       "      <th>notes</th>\n",
       "    </tr>\n",
       "  </thead>\n",
       "  <tbody>\n",
       "    <tr>\n",
       "      <th>0</th>\n",
       "      <td>AFG</td>\n",
       "      <td>Afghanistan</td>\n",
       "      <td>NaN</td>\n",
       "    </tr>\n",
       "    <tr>\n",
       "      <th>1</th>\n",
       "      <td>AHO</td>\n",
       "      <td>Curacao</td>\n",
       "      <td>Netherlands Antilles</td>\n",
       "    </tr>\n",
       "    <tr>\n",
       "      <th>2</th>\n",
       "      <td>ALB</td>\n",
       "      <td>Albania</td>\n",
       "      <td>NaN</td>\n",
       "    </tr>\n",
       "    <tr>\n",
       "      <th>3</th>\n",
       "      <td>ALG</td>\n",
       "      <td>Algeria</td>\n",
       "      <td>NaN</td>\n",
       "    </tr>\n",
       "    <tr>\n",
       "      <th>4</th>\n",
       "      <td>AND</td>\n",
       "      <td>Andorra</td>\n",
       "      <td>NaN</td>\n",
       "    </tr>\n",
       "  </tbody>\n",
       "</table>\n",
       "</div>"
      ],
      "text/plain": [
       "   NOC       region                 notes\n",
       "0  AFG  Afghanistan                   NaN\n",
       "1  AHO      Curacao  Netherlands Antilles\n",
       "2  ALB      Albania                   NaN\n",
       "3  ALG      Algeria                   NaN\n",
       "4  AND      Andorra                   NaN"
      ]
     },
     "execution_count": 9,
     "metadata": {},
     "output_type": "execute_result"
    }
   ],
   "source": [
    "path_2 = './data/noc_regions.csv'\n",
    "df_2 = pd.read_csv(path_2)\n",
    "df_2.head()"
   ]
  },
  {
   "attachments": {},
   "cell_type": "markdown",
   "metadata": {},
   "source": [
    "The focus of this EDA project will solely be on the \"Summer Olympics\", Let us filter of all the \"Winter Olympics Games\" from our dataset and perform some basic analysis on dataset `df_1`"
   ]
  },
  {
   "cell_type": "code",
   "execution_count": 10,
   "metadata": {},
   "outputs": [
    {
     "data": {
      "text/html": [
       "<style type=\"text/css\">\n",
       "#T_6e2b2_row0_col0, #T_6e2b2_row1_col0, #T_6e2b2_row2_col0, #T_6e2b2_row3_col0, #T_6e2b2_row4_col0 {\n",
       "  background-color: #f7fcf5;\n",
       "  color: #000000;\n",
       "}\n",
       "#T_6e2b2_row0_col3, #T_6e2b2_row1_col3, #T_6e2b2_row2_col3, #T_6e2b2_row4_col3 {\n",
       "  background-color: #f6fcf4;\n",
       "  color: #000000;\n",
       "}\n",
       "#T_6e2b2_row0_col4, #T_6e2b2_row1_col4, #T_6e2b2_row4_col4 {\n",
       "  background-color: #ebf7e7;\n",
       "  color: #000000;\n",
       "}\n",
       "#T_6e2b2_row0_col5 {\n",
       "  background-color: #f1faee;\n",
       "  color: #000000;\n",
       "}\n",
       "#T_6e2b2_row0_col9 {\n",
       "  background-color: #00471c;\n",
       "  color: #f1f1f1;\n",
       "}\n",
       "#T_6e2b2_row1_col5 {\n",
       "  background-color: #f3faf0;\n",
       "  color: #000000;\n",
       "}\n",
       "#T_6e2b2_row1_col9 {\n",
       "  background-color: #00441b;\n",
       "  color: #f1f1f1;\n",
       "}\n",
       "#T_6e2b2_row2_col4, #T_6e2b2_row2_col5, #T_6e2b2_row3_col4, #T_6e2b2_row3_col5, #T_6e2b2_row4_col5 {\n",
       "  background-color: #000000;\n",
       "  color: #f1f1f1;\n",
       "}\n",
       "#T_6e2b2_row2_col9 {\n",
       "  background-color: #005221;\n",
       "  color: #f1f1f1;\n",
       "}\n",
       "#T_6e2b2_row3_col3 {\n",
       "  background-color: #f5fbf2;\n",
       "  color: #000000;\n",
       "}\n",
       "#T_6e2b2_row3_col9 {\n",
       "  background-color: #005622;\n",
       "  color: #f1f1f1;\n",
       "}\n",
       "#T_6e2b2_row4_col9 {\n",
       "  background-color: #005120;\n",
       "  color: #f1f1f1;\n",
       "}\n",
       "</style>\n",
       "<table id=\"T_6e2b2\">\n",
       "  <thead>\n",
       "    <tr>\n",
       "      <th class=\"blank level0\" >&nbsp;</th>\n",
       "      <th id=\"T_6e2b2_level0_col0\" class=\"col_heading level0 col0\" >ID</th>\n",
       "      <th id=\"T_6e2b2_level0_col1\" class=\"col_heading level0 col1\" >Name</th>\n",
       "      <th id=\"T_6e2b2_level0_col2\" class=\"col_heading level0 col2\" >Sex</th>\n",
       "      <th id=\"T_6e2b2_level0_col3\" class=\"col_heading level0 col3\" >Age</th>\n",
       "      <th id=\"T_6e2b2_level0_col4\" class=\"col_heading level0 col4\" >Height</th>\n",
       "      <th id=\"T_6e2b2_level0_col5\" class=\"col_heading level0 col5\" >Weight</th>\n",
       "      <th id=\"T_6e2b2_level0_col6\" class=\"col_heading level0 col6\" >Team</th>\n",
       "      <th id=\"T_6e2b2_level0_col7\" class=\"col_heading level0 col7\" >NOC</th>\n",
       "      <th id=\"T_6e2b2_level0_col8\" class=\"col_heading level0 col8\" >Games</th>\n",
       "      <th id=\"T_6e2b2_level0_col9\" class=\"col_heading level0 col9\" >Year</th>\n",
       "      <th id=\"T_6e2b2_level0_col10\" class=\"col_heading level0 col10\" >Season</th>\n",
       "      <th id=\"T_6e2b2_level0_col11\" class=\"col_heading level0 col11\" >City</th>\n",
       "      <th id=\"T_6e2b2_level0_col12\" class=\"col_heading level0 col12\" >Sport</th>\n",
       "      <th id=\"T_6e2b2_level0_col13\" class=\"col_heading level0 col13\" >Event</th>\n",
       "      <th id=\"T_6e2b2_level0_col14\" class=\"col_heading level0 col14\" >Medal</th>\n",
       "    </tr>\n",
       "  </thead>\n",
       "  <tbody>\n",
       "    <tr>\n",
       "      <th id=\"T_6e2b2_level0_row0\" class=\"row_heading level0 row0\" >0</th>\n",
       "      <td id=\"T_6e2b2_row0_col0\" class=\"data row0 col0\" >1</td>\n",
       "      <td id=\"T_6e2b2_row0_col1\" class=\"data row0 col1\" >A Dijiang</td>\n",
       "      <td id=\"T_6e2b2_row0_col2\" class=\"data row0 col2\" >M</td>\n",
       "      <td id=\"T_6e2b2_row0_col3\" class=\"data row0 col3\" >24.000000</td>\n",
       "      <td id=\"T_6e2b2_row0_col4\" class=\"data row0 col4\" >180.000000</td>\n",
       "      <td id=\"T_6e2b2_row0_col5\" class=\"data row0 col5\" >80.000000</td>\n",
       "      <td id=\"T_6e2b2_row0_col6\" class=\"data row0 col6\" >China</td>\n",
       "      <td id=\"T_6e2b2_row0_col7\" class=\"data row0 col7\" >CHN</td>\n",
       "      <td id=\"T_6e2b2_row0_col8\" class=\"data row0 col8\" >1992 Summer</td>\n",
       "      <td id=\"T_6e2b2_row0_col9\" class=\"data row0 col9\" >1992</td>\n",
       "      <td id=\"T_6e2b2_row0_col10\" class=\"data row0 col10\" >Summer</td>\n",
       "      <td id=\"T_6e2b2_row0_col11\" class=\"data row0 col11\" >Barcelona</td>\n",
       "      <td id=\"T_6e2b2_row0_col12\" class=\"data row0 col12\" >Basketball</td>\n",
       "      <td id=\"T_6e2b2_row0_col13\" class=\"data row0 col13\" >Basketball Men's Basketball</td>\n",
       "      <td id=\"T_6e2b2_row0_col14\" class=\"data row0 col14\" >nan</td>\n",
       "    </tr>\n",
       "    <tr>\n",
       "      <th id=\"T_6e2b2_level0_row1\" class=\"row_heading level0 row1\" >1</th>\n",
       "      <td id=\"T_6e2b2_row1_col0\" class=\"data row1 col0\" >2</td>\n",
       "      <td id=\"T_6e2b2_row1_col1\" class=\"data row1 col1\" >A Lamusi</td>\n",
       "      <td id=\"T_6e2b2_row1_col2\" class=\"data row1 col2\" >M</td>\n",
       "      <td id=\"T_6e2b2_row1_col3\" class=\"data row1 col3\" >23.000000</td>\n",
       "      <td id=\"T_6e2b2_row1_col4\" class=\"data row1 col4\" >170.000000</td>\n",
       "      <td id=\"T_6e2b2_row1_col5\" class=\"data row1 col5\" >60.000000</td>\n",
       "      <td id=\"T_6e2b2_row1_col6\" class=\"data row1 col6\" >China</td>\n",
       "      <td id=\"T_6e2b2_row1_col7\" class=\"data row1 col7\" >CHN</td>\n",
       "      <td id=\"T_6e2b2_row1_col8\" class=\"data row1 col8\" >2012 Summer</td>\n",
       "      <td id=\"T_6e2b2_row1_col9\" class=\"data row1 col9\" >2012</td>\n",
       "      <td id=\"T_6e2b2_row1_col10\" class=\"data row1 col10\" >Summer</td>\n",
       "      <td id=\"T_6e2b2_row1_col11\" class=\"data row1 col11\" >London</td>\n",
       "      <td id=\"T_6e2b2_row1_col12\" class=\"data row1 col12\" >Judo</td>\n",
       "      <td id=\"T_6e2b2_row1_col13\" class=\"data row1 col13\" >Judo Men's Extra-Lightweight</td>\n",
       "      <td id=\"T_6e2b2_row1_col14\" class=\"data row1 col14\" >nan</td>\n",
       "    </tr>\n",
       "    <tr>\n",
       "      <th id=\"T_6e2b2_level0_row2\" class=\"row_heading level0 row2\" >2</th>\n",
       "      <td id=\"T_6e2b2_row2_col0\" class=\"data row2 col0\" >3</td>\n",
       "      <td id=\"T_6e2b2_row2_col1\" class=\"data row2 col1\" >Gunnar Nielsen Aaby</td>\n",
       "      <td id=\"T_6e2b2_row2_col2\" class=\"data row2 col2\" >M</td>\n",
       "      <td id=\"T_6e2b2_row2_col3\" class=\"data row2 col3\" >24.000000</td>\n",
       "      <td id=\"T_6e2b2_row2_col4\" class=\"data row2 col4\" >nan</td>\n",
       "      <td id=\"T_6e2b2_row2_col5\" class=\"data row2 col5\" >nan</td>\n",
       "      <td id=\"T_6e2b2_row2_col6\" class=\"data row2 col6\" >Denmark</td>\n",
       "      <td id=\"T_6e2b2_row2_col7\" class=\"data row2 col7\" >DEN</td>\n",
       "      <td id=\"T_6e2b2_row2_col8\" class=\"data row2 col8\" >1920 Summer</td>\n",
       "      <td id=\"T_6e2b2_row2_col9\" class=\"data row2 col9\" >1920</td>\n",
       "      <td id=\"T_6e2b2_row2_col10\" class=\"data row2 col10\" >Summer</td>\n",
       "      <td id=\"T_6e2b2_row2_col11\" class=\"data row2 col11\" >Antwerpen</td>\n",
       "      <td id=\"T_6e2b2_row2_col12\" class=\"data row2 col12\" >Football</td>\n",
       "      <td id=\"T_6e2b2_row2_col13\" class=\"data row2 col13\" >Football Men's Football</td>\n",
       "      <td id=\"T_6e2b2_row2_col14\" class=\"data row2 col14\" >nan</td>\n",
       "    </tr>\n",
       "    <tr>\n",
       "      <th id=\"T_6e2b2_level0_row3\" class=\"row_heading level0 row3\" >3</th>\n",
       "      <td id=\"T_6e2b2_row3_col0\" class=\"data row3 col0\" >4</td>\n",
       "      <td id=\"T_6e2b2_row3_col1\" class=\"data row3 col1\" >Edgar Lindenau Aabye</td>\n",
       "      <td id=\"T_6e2b2_row3_col2\" class=\"data row3 col2\" >M</td>\n",
       "      <td id=\"T_6e2b2_row3_col3\" class=\"data row3 col3\" >34.000000</td>\n",
       "      <td id=\"T_6e2b2_row3_col4\" class=\"data row3 col4\" >nan</td>\n",
       "      <td id=\"T_6e2b2_row3_col5\" class=\"data row3 col5\" >nan</td>\n",
       "      <td id=\"T_6e2b2_row3_col6\" class=\"data row3 col6\" >Denmark/Sweden</td>\n",
       "      <td id=\"T_6e2b2_row3_col7\" class=\"data row3 col7\" >DEN</td>\n",
       "      <td id=\"T_6e2b2_row3_col8\" class=\"data row3 col8\" >1900 Summer</td>\n",
       "      <td id=\"T_6e2b2_row3_col9\" class=\"data row3 col9\" >1900</td>\n",
       "      <td id=\"T_6e2b2_row3_col10\" class=\"data row3 col10\" >Summer</td>\n",
       "      <td id=\"T_6e2b2_row3_col11\" class=\"data row3 col11\" >Paris</td>\n",
       "      <td id=\"T_6e2b2_row3_col12\" class=\"data row3 col12\" >Tug-Of-War</td>\n",
       "      <td id=\"T_6e2b2_row3_col13\" class=\"data row3 col13\" >Tug-Of-War Men's Tug-Of-War</td>\n",
       "      <td id=\"T_6e2b2_row3_col14\" class=\"data row3 col14\" >Gold</td>\n",
       "    </tr>\n",
       "    <tr>\n",
       "      <th id=\"T_6e2b2_level0_row4\" class=\"row_heading level0 row4\" >26</th>\n",
       "      <td id=\"T_6e2b2_row4_col0\" class=\"data row4 col0\" >8</td>\n",
       "      <td id=\"T_6e2b2_row4_col1\" class=\"data row4 col1\" >Cornelia \"Cor\" Aalten (-Strannood)</td>\n",
       "      <td id=\"T_6e2b2_row4_col2\" class=\"data row4 col2\" >F</td>\n",
       "      <td id=\"T_6e2b2_row4_col3\" class=\"data row4 col3\" >18.000000</td>\n",
       "      <td id=\"T_6e2b2_row4_col4\" class=\"data row4 col4\" >168.000000</td>\n",
       "      <td id=\"T_6e2b2_row4_col5\" class=\"data row4 col5\" >nan</td>\n",
       "      <td id=\"T_6e2b2_row4_col6\" class=\"data row4 col6\" >Netherlands</td>\n",
       "      <td id=\"T_6e2b2_row4_col7\" class=\"data row4 col7\" >NED</td>\n",
       "      <td id=\"T_6e2b2_row4_col8\" class=\"data row4 col8\" >1932 Summer</td>\n",
       "      <td id=\"T_6e2b2_row4_col9\" class=\"data row4 col9\" >1932</td>\n",
       "      <td id=\"T_6e2b2_row4_col10\" class=\"data row4 col10\" >Summer</td>\n",
       "      <td id=\"T_6e2b2_row4_col11\" class=\"data row4 col11\" >Los Angeles</td>\n",
       "      <td id=\"T_6e2b2_row4_col12\" class=\"data row4 col12\" >Athletics</td>\n",
       "      <td id=\"T_6e2b2_row4_col13\" class=\"data row4 col13\" >Athletics Women's 100 metres</td>\n",
       "      <td id=\"T_6e2b2_row4_col14\" class=\"data row4 col14\" >nan</td>\n",
       "    </tr>\n",
       "  </tbody>\n",
       "</table>\n"
      ],
      "text/plain": [
       "<pandas.io.formats.style.Styler at 0x2abfed3a8b0>"
      ]
     },
     "execution_count": 10,
     "metadata": {},
     "output_type": "execute_result"
    }
   ],
   "source": [
    "df_1= df_1[df_1[\"Season\"]==\"Summer\"]\n",
    "df_1.head().style.background_gradient(cmap='Greens',axis=None)"
   ]
  },
  {
   "cell_type": "code",
   "execution_count": 13,
   "metadata": {},
   "outputs": [
    {
     "data": {
      "text/plain": [
       "Index(['ID', 'Name', 'Sex', 'Age', 'Height', 'Weight', 'Team', 'NOC', 'Games',\n",
       "       'Year', 'Season', 'City', 'Sport', 'Event', 'Medal'],\n",
       "      dtype='object')"
      ]
     },
     "execution_count": 13,
     "metadata": {},
     "output_type": "execute_result"
    }
   ],
   "source": [
    "# Lets check the columns of our dataset\n",
    "df_1.columns"
   ]
  },
  {
   "cell_type": "code",
   "execution_count": 14,
   "metadata": {},
   "outputs": [
    {
     "data": {
      "text/plain": [
       "15"
      ]
     },
     "execution_count": 14,
     "metadata": {},
     "output_type": "execute_result"
    }
   ],
   "source": [
    "# Lets check the number of columns in our dataset\n",
    "len(df_1.columns)"
   ]
  },
  {
   "cell_type": "code",
   "execution_count": 15,
   "metadata": {},
   "outputs": [
    {
     "data": {
      "text/plain": [
       "222552"
      ]
     },
     "execution_count": 15,
     "metadata": {},
     "output_type": "execute_result"
    }
   ],
   "source": [
    "# Lets see the number of rows the dataset has\n",
    "len(df_1)"
   ]
  },
  {
   "cell_type": "code",
   "execution_count": 16,
   "metadata": {},
   "outputs": [
    {
     "name": "stdout",
     "output_type": "stream",
     "text": [
      "<class 'pandas.core.frame.DataFrame'>\n",
      "Int64Index: 222552 entries, 0 to 271110\n",
      "Data columns (total 15 columns):\n",
      " #   Column  Non-Null Count   Dtype  \n",
      "---  ------  --------------   -----  \n",
      " 0   ID      222552 non-null  int64  \n",
      " 1   Name    222552 non-null  object \n",
      " 2   Sex     222552 non-null  object \n",
      " 3   Age     213363 non-null  float64\n",
      " 4   Height  170695 non-null  float64\n",
      " 5   Weight  168698 non-null  float64\n",
      " 6   Team    222552 non-null  object \n",
      " 7   NOC     222552 non-null  object \n",
      " 8   Games   222552 non-null  object \n",
      " 9   Year    222552 non-null  int64  \n",
      " 10  Season  222552 non-null  object \n",
      " 11  City    222552 non-null  object \n",
      " 12  Sport   222552 non-null  object \n",
      " 13  Event   222552 non-null  object \n",
      " 14  Medal   34088 non-null   object \n",
      "dtypes: float64(3), int64(2), object(10)\n",
      "memory usage: 27.2+ MB\n"
     ]
    }
   ],
   "source": [
    "# Summary of the dataset\n",
    "df_1.info()"
   ]
  },
  {
   "cell_type": "code",
   "execution_count": 17,
   "metadata": {},
   "outputs": [
    {
     "data": {
      "text/html": [
       "<style type=\"text/css\">\n",
       "#T_4b236_row0_col0, #T_4b236_row0_col4 {\n",
       "  background-color: #00441b;\n",
       "  color: #f1f1f1;\n",
       "}\n",
       "#T_4b236_row0_col1 {\n",
       "  background-color: #005120;\n",
       "  color: #f1f1f1;\n",
       "}\n",
       "#T_4b236_row0_col2 {\n",
       "  background-color: #1e8741;\n",
       "  color: #f1f1f1;\n",
       "}\n",
       "#T_4b236_row0_col3 {\n",
       "  background-color: #208843;\n",
       "  color: #f1f1f1;\n",
       "}\n",
       "#T_4b236_row1_col0, #T_4b236_row5_col0 {\n",
       "  background-color: #b6e2af;\n",
       "  color: #000000;\n",
       "}\n",
       "#T_4b236_row1_col1, #T_4b236_row1_col2, #T_4b236_row1_col3, #T_4b236_row2_col1, #T_4b236_row2_col2, #T_4b236_row2_col3, #T_4b236_row2_col4, #T_4b236_row3_col0, #T_4b236_row3_col1, #T_4b236_row3_col2, #T_4b236_row3_col3, #T_4b236_row4_col1, #T_4b236_row4_col2, #T_4b236_row4_col3, #T_4b236_row5_col1, #T_4b236_row5_col2, #T_4b236_row5_col3, #T_4b236_row6_col1, #T_4b236_row6_col2, #T_4b236_row6_col3, #T_4b236_row7_col1, #T_4b236_row7_col2, #T_4b236_row7_col3 {\n",
       "  background-color: #f7fcf5;\n",
       "  color: #000000;\n",
       "}\n",
       "#T_4b236_row1_col4, #T_4b236_row3_col4, #T_4b236_row4_col4, #T_4b236_row5_col4, #T_4b236_row6_col4, #T_4b236_row7_col4 {\n",
       "  background-color: #f6fcf4;\n",
       "  color: #000000;\n",
       "}\n",
       "#T_4b236_row2_col0 {\n",
       "  background-color: #d9f0d3;\n",
       "  color: #000000;\n",
       "}\n",
       "#T_4b236_row4_col0 {\n",
       "  background-color: #def2d9;\n",
       "  color: #000000;\n",
       "}\n",
       "#T_4b236_row6_col0 {\n",
       "  background-color: #83cb82;\n",
       "  color: #000000;\n",
       "}\n",
       "#T_4b236_row7_col0 {\n",
       "  background-color: #48ae60;\n",
       "  color: #f1f1f1;\n",
       "}\n",
       "</style>\n",
       "<table id=\"T_4b236\">\n",
       "  <thead>\n",
       "    <tr>\n",
       "      <th class=\"blank level0\" >&nbsp;</th>\n",
       "      <th id=\"T_4b236_level0_col0\" class=\"col_heading level0 col0\" >ID</th>\n",
       "      <th id=\"T_4b236_level0_col1\" class=\"col_heading level0 col1\" >Age</th>\n",
       "      <th id=\"T_4b236_level0_col2\" class=\"col_heading level0 col2\" >Height</th>\n",
       "      <th id=\"T_4b236_level0_col3\" class=\"col_heading level0 col3\" >Weight</th>\n",
       "      <th id=\"T_4b236_level0_col4\" class=\"col_heading level0 col4\" >Year</th>\n",
       "    </tr>\n",
       "  </thead>\n",
       "  <tbody>\n",
       "    <tr>\n",
       "      <th id=\"T_4b236_level0_row0\" class=\"row_heading level0 row0\" >count</th>\n",
       "      <td id=\"T_4b236_row0_col0\" class=\"data row0 col0\" >222552.000000</td>\n",
       "      <td id=\"T_4b236_row0_col1\" class=\"data row0 col1\" >213363.000000</td>\n",
       "      <td id=\"T_4b236_row0_col2\" class=\"data row0 col2\" >170695.000000</td>\n",
       "      <td id=\"T_4b236_row0_col3\" class=\"data row0 col3\" >168698.000000</td>\n",
       "      <td id=\"T_4b236_row0_col4\" class=\"data row0 col4\" >222552.000000</td>\n",
       "    </tr>\n",
       "    <tr>\n",
       "      <th id=\"T_4b236_level0_row1\" class=\"row_heading level0 row1\" >mean</th>\n",
       "      <td id=\"T_4b236_row1_col0\" class=\"data row1 col0\" >67998.925712</td>\n",
       "      <td id=\"T_4b236_row1_col1\" class=\"data row1 col1\" >25.674053</td>\n",
       "      <td id=\"T_4b236_row1_col2\" class=\"data row1 col2\" >175.515551</td>\n",
       "      <td id=\"T_4b236_row1_col3\" class=\"data row1 col3\" >70.689060</td>\n",
       "      <td id=\"T_4b236_row1_col4\" class=\"data row1 col4\" >1976.317094</td>\n",
       "    </tr>\n",
       "    <tr>\n",
       "      <th id=\"T_4b236_level0_row2\" class=\"row_heading level0 row2\" >std</th>\n",
       "      <td id=\"T_4b236_row2_col0\" class=\"data row2 col0\" >39139.038228</td>\n",
       "      <td id=\"T_4b236_row2_col1\" class=\"data row2 col1\" >6.699839</td>\n",
       "      <td id=\"T_4b236_row2_col2\" class=\"data row2 col2\" >10.914725</td>\n",
       "      <td id=\"T_4b236_row2_col3\" class=\"data row2 col3\" >14.803940</td>\n",
       "      <td id=\"T_4b236_row2_col4\" class=\"data row2 col4\" >30.942802</td>\n",
       "    </tr>\n",
       "    <tr>\n",
       "      <th id=\"T_4b236_level0_row3\" class=\"row_heading level0 row3\" >min</th>\n",
       "      <td id=\"T_4b236_row3_col0\" class=\"data row3 col0\" >1.000000</td>\n",
       "      <td id=\"T_4b236_row3_col1\" class=\"data row3 col1\" >10.000000</td>\n",
       "      <td id=\"T_4b236_row3_col2\" class=\"data row3 col2\" >127.000000</td>\n",
       "      <td id=\"T_4b236_row3_col3\" class=\"data row3 col3\" >25.000000</td>\n",
       "      <td id=\"T_4b236_row3_col4\" class=\"data row3 col4\" >1896.000000</td>\n",
       "    </tr>\n",
       "    <tr>\n",
       "      <th id=\"T_4b236_level0_row4\" class=\"row_heading level0 row4\" >25%</th>\n",
       "      <td id=\"T_4b236_row4_col0\" class=\"data row4 col0\" >34000.750000</td>\n",
       "      <td id=\"T_4b236_row4_col1\" class=\"data row4 col1\" >21.000000</td>\n",
       "      <td id=\"T_4b236_row4_col2\" class=\"data row4 col2\" >168.000000</td>\n",
       "      <td id=\"T_4b236_row4_col3\" class=\"data row4 col3\" >60.000000</td>\n",
       "      <td id=\"T_4b236_row4_col4\" class=\"data row4 col4\" >1956.000000</td>\n",
       "    </tr>\n",
       "    <tr>\n",
       "      <th id=\"T_4b236_level0_row5\" class=\"row_heading level0 row5\" >50%</th>\n",
       "      <td id=\"T_4b236_row5_col0\" class=\"data row5 col0\" >68302.500000</td>\n",
       "      <td id=\"T_4b236_row5_col1\" class=\"data row5 col1\" >24.000000</td>\n",
       "      <td id=\"T_4b236_row5_col2\" class=\"data row5 col2\" >175.000000</td>\n",
       "      <td id=\"T_4b236_row5_col3\" class=\"data row5 col3\" >70.000000</td>\n",
       "      <td id=\"T_4b236_row5_col4\" class=\"data row5 col4\" >1984.000000</td>\n",
       "    </tr>\n",
       "    <tr>\n",
       "      <th id=\"T_4b236_level0_row6\" class=\"row_heading level0 row6\" >75%</th>\n",
       "      <td id=\"T_4b236_row6_col0\" class=\"data row6 col0\" >101881.000000</td>\n",
       "      <td id=\"T_4b236_row6_col1\" class=\"data row6 col1\" >28.000000</td>\n",
       "      <td id=\"T_4b236_row6_col2\" class=\"data row6 col2\" >183.000000</td>\n",
       "      <td id=\"T_4b236_row6_col3\" class=\"data row6 col3\" >79.000000</td>\n",
       "      <td id=\"T_4b236_row6_col4\" class=\"data row6 col4\" >2000.000000</td>\n",
       "    </tr>\n",
       "    <tr>\n",
       "      <th id=\"T_4b236_level0_row7\" class=\"row_heading level0 row7\" >max</th>\n",
       "      <td id=\"T_4b236_row7_col0\" class=\"data row7 col0\" >135568.000000</td>\n",
       "      <td id=\"T_4b236_row7_col1\" class=\"data row7 col1\" >97.000000</td>\n",
       "      <td id=\"T_4b236_row7_col2\" class=\"data row7 col2\" >226.000000</td>\n",
       "      <td id=\"T_4b236_row7_col3\" class=\"data row7 col3\" >214.000000</td>\n",
       "      <td id=\"T_4b236_row7_col4\" class=\"data row7 col4\" >2016.000000</td>\n",
       "    </tr>\n",
       "  </tbody>\n",
       "</table>\n"
      ],
      "text/plain": [
       "<pandas.io.formats.style.Styler at 0x2abddac9f40>"
      ]
     },
     "execution_count": 17,
     "metadata": {},
     "output_type": "execute_result"
    }
   ],
   "source": [
    "df_1.describe().style.background_gradient(cmap='Greens',axis=None)"
   ]
  },
  {
   "attachments": {},
   "cell_type": "markdown",
   "metadata": {},
   "source": [
    "Here's something that caught my eye from the above statistical values: \n",
    "- In the `Age` column, the minimum value is `10`, meaning that a kid as young as 10 years has participated in the one of the biggest sporting events on the planet.\n",
    "- The youngest documented Olympian is 10-year-old Greek gymnast who goes by the name Dimitrios Loundras. He had participated in the 1896 Greek Olympics and managed to bag a Bronze Medal too!"
   ]
  },
  {
   "attachments": {},
   "cell_type": "markdown",
   "metadata": {},
   "source": [
    "We will use same methods to analyze the `df_2` dataset"
   ]
  },
  {
   "cell_type": "code",
   "execution_count": 19,
   "metadata": {},
   "outputs": [
    {
     "data": {
      "text/plain": [
       "Index(['NOC', 'region', 'notes'], dtype='object')"
      ]
     },
     "execution_count": 19,
     "metadata": {},
     "output_type": "execute_result"
    }
   ],
   "source": [
    "df_2.columns"
   ]
  },
  {
   "cell_type": "code",
   "execution_count": 20,
   "metadata": {},
   "outputs": [
    {
     "data": {
      "text/plain": [
       "3"
      ]
     },
     "execution_count": 20,
     "metadata": {},
     "output_type": "execute_result"
    }
   ],
   "source": [
    "len(df_2.columns)"
   ]
  },
  {
   "cell_type": "code",
   "execution_count": 21,
   "metadata": {},
   "outputs": [
    {
     "data": {
      "text/plain": [
       "230"
      ]
     },
     "execution_count": 21,
     "metadata": {},
     "output_type": "execute_result"
    }
   ],
   "source": [
    "len(df_2)"
   ]
  },
  {
   "cell_type": "code",
   "execution_count": 22,
   "metadata": {},
   "outputs": [
    {
     "name": "stdout",
     "output_type": "stream",
     "text": [
      "<class 'pandas.core.frame.DataFrame'>\n",
      "RangeIndex: 230 entries, 0 to 229\n",
      "Data columns (total 3 columns):\n",
      " #   Column  Non-Null Count  Dtype \n",
      "---  ------  --------------  ----- \n",
      " 0   NOC     230 non-null    object\n",
      " 1   region  227 non-null    object\n",
      " 2   notes   21 non-null     object\n",
      "dtypes: object(3)\n",
      "memory usage: 5.5+ KB\n"
     ]
    }
   ],
   "source": [
    "df_2.info()"
   ]
  },
  {
   "cell_type": "code",
   "execution_count": 23,
   "metadata": {},
   "outputs": [
    {
     "data": {
      "text/html": [
       "<style type=\"text/css\">\n",
       "#T_61645_row0_col0, #T_61645_row0_col1, #T_61645_row0_col2, #T_61645_row1_col0, #T_61645_row1_col1, #T_61645_row1_col2, #T_61645_row2_col0, #T_61645_row2_col1, #T_61645_row2_col2, #T_61645_row3_col0, #T_61645_row3_col1, #T_61645_row3_col2 {\n",
       "  background-color: #DEF5E5;\n",
       "  color: black;\n",
       "  border: 0.5px  solid black;\n",
       "}\n",
       "</style>\n",
       "<table id=\"T_61645\">\n",
       "  <thead>\n",
       "    <tr>\n",
       "      <th class=\"blank level0\" >&nbsp;</th>\n",
       "      <th id=\"T_61645_level0_col0\" class=\"col_heading level0 col0\" >NOC</th>\n",
       "      <th id=\"T_61645_level0_col1\" class=\"col_heading level0 col1\" >region</th>\n",
       "      <th id=\"T_61645_level0_col2\" class=\"col_heading level0 col2\" >notes</th>\n",
       "    </tr>\n",
       "  </thead>\n",
       "  <tbody>\n",
       "    <tr>\n",
       "      <th id=\"T_61645_level0_row0\" class=\"row_heading level0 row0\" >count</th>\n",
       "      <td id=\"T_61645_row0_col0\" class=\"data row0 col0\" >230</td>\n",
       "      <td id=\"T_61645_row0_col1\" class=\"data row0 col1\" >227</td>\n",
       "      <td id=\"T_61645_row0_col2\" class=\"data row0 col2\" >21</td>\n",
       "    </tr>\n",
       "    <tr>\n",
       "      <th id=\"T_61645_level0_row1\" class=\"row_heading level0 row1\" >unique</th>\n",
       "      <td id=\"T_61645_row1_col0\" class=\"data row1 col0\" >230</td>\n",
       "      <td id=\"T_61645_row1_col1\" class=\"data row1 col1\" >206</td>\n",
       "      <td id=\"T_61645_row1_col2\" class=\"data row1 col2\" >21</td>\n",
       "    </tr>\n",
       "    <tr>\n",
       "      <th id=\"T_61645_level0_row2\" class=\"row_heading level0 row2\" >top</th>\n",
       "      <td id=\"T_61645_row2_col0\" class=\"data row2 col0\" >AFG</td>\n",
       "      <td id=\"T_61645_row2_col1\" class=\"data row2 col1\" >Germany</td>\n",
       "      <td id=\"T_61645_row2_col2\" class=\"data row2 col2\" >Netherlands Antilles</td>\n",
       "    </tr>\n",
       "    <tr>\n",
       "      <th id=\"T_61645_level0_row3\" class=\"row_heading level0 row3\" >freq</th>\n",
       "      <td id=\"T_61645_row3_col0\" class=\"data row3 col0\" >1</td>\n",
       "      <td id=\"T_61645_row3_col1\" class=\"data row3 col1\" >4</td>\n",
       "      <td id=\"T_61645_row3_col2\" class=\"data row3 col2\" >1</td>\n",
       "    </tr>\n",
       "  </tbody>\n",
       "</table>\n"
      ],
      "text/plain": [
       "<pandas.io.formats.style.Styler at 0x2ab8516af10>"
      ]
     },
     "execution_count": 23,
     "metadata": {},
     "output_type": "execute_result"
    }
   ],
   "source": [
    "df_2.describe().style.set_properties(**{'background-color': '#DEF5E5',\n",
    "                                    'color': 'black',\n",
    "                                    'border': '0.5px  solid black'})"
   ]
  },
  {
   "attachments": {},
   "cell_type": "markdown",
   "metadata": {},
   "source": [
    "## 🔀 Merging The Two Datasets Into One"
   ]
  },
  {
   "cell_type": "code",
   "execution_count": 25,
   "metadata": {},
   "outputs": [
    {
     "data": {
      "text/html": [
       "<style type=\"text/css\">\n",
       "#T_775c5_row0_col0, #T_775c5_row1_col5, #T_775c5_row3_col9, #T_775c5_row4_col3, #T_775c5_row4_col4 {\n",
       "  background-color: #f7fcf5;\n",
       "  color: #000000;\n",
       "}\n",
       "#T_775c5_row0_col3, #T_775c5_row2_col3 {\n",
       "  background-color: #a0d99b;\n",
       "  color: #000000;\n",
       "}\n",
       "#T_775c5_row0_col4, #T_775c5_row0_col5, #T_775c5_row1_col9, #T_775c5_row3_col3, #T_775c5_row4_col0 {\n",
       "  background-color: #00441b;\n",
       "  color: #f1f1f1;\n",
       "}\n",
       "#T_775c5_row0_col9 {\n",
       "  background-color: #0e7936;\n",
       "  color: #f1f1f1;\n",
       "}\n",
       "#T_775c5_row1_col0 {\n",
       "  background-color: #e1f3dc;\n",
       "  color: #000000;\n",
       "}\n",
       "#T_775c5_row1_col3 {\n",
       "  background-color: #b4e1ad;\n",
       "  color: #000000;\n",
       "}\n",
       "#T_775c5_row1_col4 {\n",
       "  background-color: #dbf1d6;\n",
       "  color: #000000;\n",
       "}\n",
       "#T_775c5_row2_col0, #T_775c5_row4_col9 {\n",
       "  background-color: #bce4b5;\n",
       "  color: #000000;\n",
       "}\n",
       "#T_775c5_row2_col4, #T_775c5_row2_col5, #T_775c5_row3_col4, #T_775c5_row3_col5, #T_775c5_row4_col5 {\n",
       "  background-color: #000000;\n",
       "  color: #f1f1f1;\n",
       "}\n",
       "#T_775c5_row2_col9 {\n",
       "  background-color: #d9f0d3;\n",
       "  color: #000000;\n",
       "}\n",
       "#T_775c5_row3_col0 {\n",
       "  background-color: #8ed08b;\n",
       "  color: #000000;\n",
       "}\n",
       "</style>\n",
       "<table id=\"T_775c5\">\n",
       "  <thead>\n",
       "    <tr>\n",
       "      <th class=\"blank level0\" >&nbsp;</th>\n",
       "      <th id=\"T_775c5_level0_col0\" class=\"col_heading level0 col0\" >ID</th>\n",
       "      <th id=\"T_775c5_level0_col1\" class=\"col_heading level0 col1\" >Name</th>\n",
       "      <th id=\"T_775c5_level0_col2\" class=\"col_heading level0 col2\" >Sex</th>\n",
       "      <th id=\"T_775c5_level0_col3\" class=\"col_heading level0 col3\" >Age</th>\n",
       "      <th id=\"T_775c5_level0_col4\" class=\"col_heading level0 col4\" >Height</th>\n",
       "      <th id=\"T_775c5_level0_col5\" class=\"col_heading level0 col5\" >Weight</th>\n",
       "      <th id=\"T_775c5_level0_col6\" class=\"col_heading level0 col6\" >Team</th>\n",
       "      <th id=\"T_775c5_level0_col7\" class=\"col_heading level0 col7\" >NOC</th>\n",
       "      <th id=\"T_775c5_level0_col8\" class=\"col_heading level0 col8\" >Games</th>\n",
       "      <th id=\"T_775c5_level0_col9\" class=\"col_heading level0 col9\" >Year</th>\n",
       "      <th id=\"T_775c5_level0_col10\" class=\"col_heading level0 col10\" >Season</th>\n",
       "      <th id=\"T_775c5_level0_col11\" class=\"col_heading level0 col11\" >City</th>\n",
       "      <th id=\"T_775c5_level0_col12\" class=\"col_heading level0 col12\" >Sport</th>\n",
       "      <th id=\"T_775c5_level0_col13\" class=\"col_heading level0 col13\" >Event</th>\n",
       "      <th id=\"T_775c5_level0_col14\" class=\"col_heading level0 col14\" >Medal</th>\n",
       "      <th id=\"T_775c5_level0_col15\" class=\"col_heading level0 col15\" >region</th>\n",
       "      <th id=\"T_775c5_level0_col16\" class=\"col_heading level0 col16\" >notes</th>\n",
       "    </tr>\n",
       "  </thead>\n",
       "  <tbody>\n",
       "    <tr>\n",
       "      <th id=\"T_775c5_level0_row0\" class=\"row_heading level0 row0\" >0</th>\n",
       "      <td id=\"T_775c5_row0_col0\" class=\"data row0 col0\" >1</td>\n",
       "      <td id=\"T_775c5_row0_col1\" class=\"data row0 col1\" >A Dijiang</td>\n",
       "      <td id=\"T_775c5_row0_col2\" class=\"data row0 col2\" >M</td>\n",
       "      <td id=\"T_775c5_row0_col3\" class=\"data row0 col3\" >24.000000</td>\n",
       "      <td id=\"T_775c5_row0_col4\" class=\"data row0 col4\" >180.000000</td>\n",
       "      <td id=\"T_775c5_row0_col5\" class=\"data row0 col5\" >80.000000</td>\n",
       "      <td id=\"T_775c5_row0_col6\" class=\"data row0 col6\" >China</td>\n",
       "      <td id=\"T_775c5_row0_col7\" class=\"data row0 col7\" >CHN</td>\n",
       "      <td id=\"T_775c5_row0_col8\" class=\"data row0 col8\" >1992 Summer</td>\n",
       "      <td id=\"T_775c5_row0_col9\" class=\"data row0 col9\" >1992</td>\n",
       "      <td id=\"T_775c5_row0_col10\" class=\"data row0 col10\" >Summer</td>\n",
       "      <td id=\"T_775c5_row0_col11\" class=\"data row0 col11\" >Barcelona</td>\n",
       "      <td id=\"T_775c5_row0_col12\" class=\"data row0 col12\" >Basketball</td>\n",
       "      <td id=\"T_775c5_row0_col13\" class=\"data row0 col13\" >Basketball Men's Basketball</td>\n",
       "      <td id=\"T_775c5_row0_col14\" class=\"data row0 col14\" >nan</td>\n",
       "      <td id=\"T_775c5_row0_col15\" class=\"data row0 col15\" >China</td>\n",
       "      <td id=\"T_775c5_row0_col16\" class=\"data row0 col16\" >nan</td>\n",
       "    </tr>\n",
       "    <tr>\n",
       "      <th id=\"T_775c5_level0_row1\" class=\"row_heading level0 row1\" >1</th>\n",
       "      <td id=\"T_775c5_row1_col0\" class=\"data row1 col0\" >2</td>\n",
       "      <td id=\"T_775c5_row1_col1\" class=\"data row1 col1\" >A Lamusi</td>\n",
       "      <td id=\"T_775c5_row1_col2\" class=\"data row1 col2\" >M</td>\n",
       "      <td id=\"T_775c5_row1_col3\" class=\"data row1 col3\" >23.000000</td>\n",
       "      <td id=\"T_775c5_row1_col4\" class=\"data row1 col4\" >170.000000</td>\n",
       "      <td id=\"T_775c5_row1_col5\" class=\"data row1 col5\" >60.000000</td>\n",
       "      <td id=\"T_775c5_row1_col6\" class=\"data row1 col6\" >China</td>\n",
       "      <td id=\"T_775c5_row1_col7\" class=\"data row1 col7\" >CHN</td>\n",
       "      <td id=\"T_775c5_row1_col8\" class=\"data row1 col8\" >2012 Summer</td>\n",
       "      <td id=\"T_775c5_row1_col9\" class=\"data row1 col9\" >2012</td>\n",
       "      <td id=\"T_775c5_row1_col10\" class=\"data row1 col10\" >Summer</td>\n",
       "      <td id=\"T_775c5_row1_col11\" class=\"data row1 col11\" >London</td>\n",
       "      <td id=\"T_775c5_row1_col12\" class=\"data row1 col12\" >Judo</td>\n",
       "      <td id=\"T_775c5_row1_col13\" class=\"data row1 col13\" >Judo Men's Extra-Lightweight</td>\n",
       "      <td id=\"T_775c5_row1_col14\" class=\"data row1 col14\" >nan</td>\n",
       "      <td id=\"T_775c5_row1_col15\" class=\"data row1 col15\" >China</td>\n",
       "      <td id=\"T_775c5_row1_col16\" class=\"data row1 col16\" >nan</td>\n",
       "    </tr>\n",
       "    <tr>\n",
       "      <th id=\"T_775c5_level0_row2\" class=\"row_heading level0 row2\" >2</th>\n",
       "      <td id=\"T_775c5_row2_col0\" class=\"data row2 col0\" >3</td>\n",
       "      <td id=\"T_775c5_row2_col1\" class=\"data row2 col1\" >Gunnar Nielsen Aaby</td>\n",
       "      <td id=\"T_775c5_row2_col2\" class=\"data row2 col2\" >M</td>\n",
       "      <td id=\"T_775c5_row2_col3\" class=\"data row2 col3\" >24.000000</td>\n",
       "      <td id=\"T_775c5_row2_col4\" class=\"data row2 col4\" >nan</td>\n",
       "      <td id=\"T_775c5_row2_col5\" class=\"data row2 col5\" >nan</td>\n",
       "      <td id=\"T_775c5_row2_col6\" class=\"data row2 col6\" >Denmark</td>\n",
       "      <td id=\"T_775c5_row2_col7\" class=\"data row2 col7\" >DEN</td>\n",
       "      <td id=\"T_775c5_row2_col8\" class=\"data row2 col8\" >1920 Summer</td>\n",
       "      <td id=\"T_775c5_row2_col9\" class=\"data row2 col9\" >1920</td>\n",
       "      <td id=\"T_775c5_row2_col10\" class=\"data row2 col10\" >Summer</td>\n",
       "      <td id=\"T_775c5_row2_col11\" class=\"data row2 col11\" >Antwerpen</td>\n",
       "      <td id=\"T_775c5_row2_col12\" class=\"data row2 col12\" >Football</td>\n",
       "      <td id=\"T_775c5_row2_col13\" class=\"data row2 col13\" >Football Men's Football</td>\n",
       "      <td id=\"T_775c5_row2_col14\" class=\"data row2 col14\" >nan</td>\n",
       "      <td id=\"T_775c5_row2_col15\" class=\"data row2 col15\" >Denmark</td>\n",
       "      <td id=\"T_775c5_row2_col16\" class=\"data row2 col16\" >nan</td>\n",
       "    </tr>\n",
       "    <tr>\n",
       "      <th id=\"T_775c5_level0_row3\" class=\"row_heading level0 row3\" >3</th>\n",
       "      <td id=\"T_775c5_row3_col0\" class=\"data row3 col0\" >4</td>\n",
       "      <td id=\"T_775c5_row3_col1\" class=\"data row3 col1\" >Edgar Lindenau Aabye</td>\n",
       "      <td id=\"T_775c5_row3_col2\" class=\"data row3 col2\" >M</td>\n",
       "      <td id=\"T_775c5_row3_col3\" class=\"data row3 col3\" >34.000000</td>\n",
       "      <td id=\"T_775c5_row3_col4\" class=\"data row3 col4\" >nan</td>\n",
       "      <td id=\"T_775c5_row3_col5\" class=\"data row3 col5\" >nan</td>\n",
       "      <td id=\"T_775c5_row3_col6\" class=\"data row3 col6\" >Denmark/Sweden</td>\n",
       "      <td id=\"T_775c5_row3_col7\" class=\"data row3 col7\" >DEN</td>\n",
       "      <td id=\"T_775c5_row3_col8\" class=\"data row3 col8\" >1900 Summer</td>\n",
       "      <td id=\"T_775c5_row3_col9\" class=\"data row3 col9\" >1900</td>\n",
       "      <td id=\"T_775c5_row3_col10\" class=\"data row3 col10\" >Summer</td>\n",
       "      <td id=\"T_775c5_row3_col11\" class=\"data row3 col11\" >Paris</td>\n",
       "      <td id=\"T_775c5_row3_col12\" class=\"data row3 col12\" >Tug-Of-War</td>\n",
       "      <td id=\"T_775c5_row3_col13\" class=\"data row3 col13\" >Tug-Of-War Men's Tug-Of-War</td>\n",
       "      <td id=\"T_775c5_row3_col14\" class=\"data row3 col14\" >Gold</td>\n",
       "      <td id=\"T_775c5_row3_col15\" class=\"data row3 col15\" >Denmark</td>\n",
       "      <td id=\"T_775c5_row3_col16\" class=\"data row3 col16\" >nan</td>\n",
       "    </tr>\n",
       "    <tr>\n",
       "      <th id=\"T_775c5_level0_row4\" class=\"row_heading level0 row4\" >4</th>\n",
       "      <td id=\"T_775c5_row4_col0\" class=\"data row4 col0\" >8</td>\n",
       "      <td id=\"T_775c5_row4_col1\" class=\"data row4 col1\" >Cornelia \"Cor\" Aalten (-Strannood)</td>\n",
       "      <td id=\"T_775c5_row4_col2\" class=\"data row4 col2\" >F</td>\n",
       "      <td id=\"T_775c5_row4_col3\" class=\"data row4 col3\" >18.000000</td>\n",
       "      <td id=\"T_775c5_row4_col4\" class=\"data row4 col4\" >168.000000</td>\n",
       "      <td id=\"T_775c5_row4_col5\" class=\"data row4 col5\" >nan</td>\n",
       "      <td id=\"T_775c5_row4_col6\" class=\"data row4 col6\" >Netherlands</td>\n",
       "      <td id=\"T_775c5_row4_col7\" class=\"data row4 col7\" >NED</td>\n",
       "      <td id=\"T_775c5_row4_col8\" class=\"data row4 col8\" >1932 Summer</td>\n",
       "      <td id=\"T_775c5_row4_col9\" class=\"data row4 col9\" >1932</td>\n",
       "      <td id=\"T_775c5_row4_col10\" class=\"data row4 col10\" >Summer</td>\n",
       "      <td id=\"T_775c5_row4_col11\" class=\"data row4 col11\" >Los Angeles</td>\n",
       "      <td id=\"T_775c5_row4_col12\" class=\"data row4 col12\" >Athletics</td>\n",
       "      <td id=\"T_775c5_row4_col13\" class=\"data row4 col13\" >Athletics Women's 100 metres</td>\n",
       "      <td id=\"T_775c5_row4_col14\" class=\"data row4 col14\" >nan</td>\n",
       "      <td id=\"T_775c5_row4_col15\" class=\"data row4 col15\" >Netherlands</td>\n",
       "      <td id=\"T_775c5_row4_col16\" class=\"data row4 col16\" >nan</td>\n",
       "    </tr>\n",
       "  </tbody>\n",
       "</table>\n"
      ],
      "text/plain": [
       "<pandas.io.formats.style.Styler at 0x2ab85170a90>"
      ]
     },
     "execution_count": 25,
     "metadata": {},
     "output_type": "execute_result"
    }
   ],
   "source": [
    "data_df= pd.merge(df_1, df_2, how='left',on='NOC')\n",
    "data_df.head().style.background_gradient(cmap='Greens',axis=0)"
   ]
  },
  {
   "attachments": {},
   "cell_type": "markdown",
   "metadata": {},
   "source": [
    "## ⚠️ Finding and Replacing The Null Values In Our Dataset"
   ]
  },
  {
   "cell_type": "code",
   "execution_count": 27,
   "metadata": {},
   "outputs": [
    {
     "data": {
      "text/plain": [
       "ID             0\n",
       "Name           0\n",
       "Sex            0\n",
       "Age         9189\n",
       "Height     51857\n",
       "Weight     53854\n",
       "Team           0\n",
       "NOC            0\n",
       "Games          0\n",
       "Year           0\n",
       "Season         0\n",
       "City           0\n",
       "Sport          0\n",
       "Event          0\n",
       "Medal     188464\n",
       "region       370\n",
       "notes     218151\n",
       "dtype: int64"
      ]
     },
     "execution_count": 27,
     "metadata": {},
     "output_type": "execute_result"
    }
   ],
   "source": [
    "data_df.isnull().sum()"
   ]
  },
  {
   "attachments": {},
   "cell_type": "markdown",
   "metadata": {},
   "source": [
    "Now, let us make some insightful visualisations and checkout the percentage of the data that is actually missing in the dataset."
   ]
  },
  {
   "cell_type": "code",
   "execution_count": 28,
   "metadata": {},
   "outputs": [
    {
     "data": {
      "text/plain": [
       "notes     98.022485\n",
       "Medal     84.683130\n",
       "Weight    24.198390\n",
       "Height    23.301071\n",
       "Age        4.128923\n",
       "region     0.166253\n",
       "dtype: float64"
      ]
     },
     "execution_count": 28,
     "metadata": {},
     "output_type": "execute_result"
    }
   ],
   "source": [
    "missing_percentage= 100*(data_df.isna().sum().sort_values(ascending=False)/len(data_df))\n",
    "missing_percentage[missing_percentage!=0]"
   ]
  },
  {
   "cell_type": "code",
   "execution_count": 29,
   "metadata": {},
   "outputs": [
    {
     "data": {
      "image/png": "[encoded data removed]",
      "text/plain": [
       "<Figure size 720x432 with 1 Axes>"
      ]
     },
     "metadata": {},
     "output_type": "display_data"
    }
   ],
   "source": [
    "plt.title(\"Percentage Of Missing Values: Horizontal Bar Graph\")\n",
    "missing_percentage.plot(figsize=(10,6),kind=\"bar\",grid=True,cmap='ocean');"
   ]
  },
  {
   "cell_type": "code",
   "execution_count": 30,
   "metadata": {},
   "outputs": [
    {
     "data": {
      "image/png": "[encoded data removed]",
      "text/plain": [
       "<Figure size 864x432 with 1 Axes>"
      ]
     },
     "metadata": {},
     "output_type": "display_data"
    }
   ],
   "source": [
    "plt.title(\"Percentage Of Missing Values: Pie Chart\")\n",
    "missing_percentage.plot(figsize=(12,6),kind=\"pie\",cmap=\"ocean\");"
   ]
  },
  {
   "attachments": {},
   "cell_type": "markdown",
   "metadata": {},
   "source": [
    "The notes column in this dataframe is not of much use to our EDA project so let us just remove it."
   ]
  },
  {
   "cell_type": "code",
   "execution_count": 31,
   "metadata": {},
   "outputs": [],
   "source": [
    "data_df.drop([\"notes\"],axis=1,inplace=True)"
   ]
  },
  {
   "attachments": {},
   "cell_type": "markdown",
   "metadata": {},
   "source": [
    "Now let us fill all the null values in columns `Age`, `Height` and `Weight` with the mean column parameters."
   ]
  },
  {
   "cell_type": "code",
   "execution_count": 32,
   "metadata": {},
   "outputs": [],
   "source": [
    "data_df[\"Age\"].fillna(data_df[\"Age\"].mean(),inplace=True)\n",
    "data_df[\"Height\"].fillna(data_df[\"Height\"].mean(),inplace=True)\n",
    "data_df[\"Weight\"].fillna(data_df[\"Weight\"].mean(),inplace=True)"
   ]
  },
  {
   "cell_type": "code",
   "execution_count": 33,
   "metadata": {},
   "outputs": [
    {
     "data": {
      "text/plain": [
       "array(['China', 'Denmark', 'Netherlands', 'Finland', 'Norway', 'Romania',\n",
       "       'Estonia', 'France', 'Morocco', 'Spain', 'Egypt', 'Iran',\n",
       "       'Bulgaria', 'Italy', 'Chad', 'Azerbaijan', 'Sudan', 'Russia',\n",
       "       'Argentina', 'Cuba', 'Belarus', 'Greece', 'Cameroon', 'Turkey',\n",
       "       'Chile', 'Mexico', 'USA', 'Nicaragua', 'Hungary', 'Nigeria',\n",
       "       'Algeria', 'Kuwait', 'Bahrain', 'Pakistan', 'Iraq', 'Syria',\n",
       "       'Lebanon', 'Qatar', 'Malaysia', 'Germany', 'Canada', 'Ireland',\n",
       "       'Australia', 'South Africa', 'Eritrea', 'Tanzania', 'Jordan',\n",
       "       'Tunisia', 'Libya', 'Belgium', 'Djibouti', 'Palestine', 'Comoros',\n",
       "       'Kazakhstan', 'Brunei', 'India', 'Saudi Arabia', 'Maldives',\n",
       "       'Ethiopia', 'United Arab Emirates', 'Yemen', 'Indonesia',\n",
       "       'Philippines', nan, 'Uzbekistan', 'Kyrgyzstan', 'Tajikistan',\n",
       "       'Japan', 'Republic of Congo', 'Switzerland', 'Brazil', 'Monaco',\n",
       "       'Israel', 'Uruguay', 'Sweden', 'Sri Lanka', 'Armenia',\n",
       "       'Ivory Coast', 'Kenya', 'Benin', 'UK', 'Ghana', 'Somalia', 'Niger',\n",
       "       'Mali', 'Afghanistan', 'Poland', 'Costa Rica', 'Panama', 'Georgia',\n",
       "       'Slovenia', 'Guyana', 'New Zealand', 'Portugal', 'Paraguay',\n",
       "       'Angola', 'Venezuela', 'Colombia', 'Bangladesh', 'Peru',\n",
       "       'El Salvador', 'Puerto Rico', 'Uganda', 'Honduras', 'Ecuador',\n",
       "       'Turkmenistan', 'Mauritius', 'Seychelles', 'Czech Republic',\n",
       "       'Luxembourg', 'Mauritania', 'Saint Kitts', 'Trinidad',\n",
       "       'Dominican Republic', 'Saint Vincent', 'Jamaica', 'Liberia',\n",
       "       'Suriname', 'Nepal', 'Mongolia', 'Austria', 'Palau', 'Lithuania',\n",
       "       'Togo', 'Namibia', 'Curacao', 'Ukraine', 'Iceland',\n",
       "       'American Samoa', 'Samoa', 'Rwanda', 'Croatia', 'Dominica',\n",
       "       'Haiti', 'Malta', 'Cyprus', 'Guinea', 'Belize', 'Thailand',\n",
       "       'Bermuda', 'Serbia', 'Sierra Leone', 'Papua New Guinea',\n",
       "       'Individual Olympic Athletes', 'Oman', 'Fiji', 'Vanuatu',\n",
       "       'Moldova', 'Bahamas', 'Guatemala', 'Latvia',\n",
       "       'Virgin Islands, British', 'Mozambique', 'Virgin Islands, US',\n",
       "       'Central African Republic', 'Madagascar', 'Bosnia and Herzegovina',\n",
       "       'Guam', 'Cayman Islands', 'Slovakia', 'Barbados', 'Guinea-Bissau',\n",
       "       'Timor-Leste', 'Democratic Republic of the Congo', 'Gabon',\n",
       "       'San Marino', 'Laos', 'Botswana', 'South Korea', 'Cambodia',\n",
       "       'North Korea', 'Solomon Islands', 'Senegal', 'Cape Verde',\n",
       "       'Equatorial Guinea', 'Boliva', 'Antigua', 'Andorra', 'Zimbabwe',\n",
       "       'Grenada', 'Saint Lucia', 'Micronesia', 'Myanmar', 'Malawi',\n",
       "       'Zambia', 'Taiwan', 'Sao Tome and Principe', 'Macedonia',\n",
       "       'Liechtenstein', 'Montenegro', 'Gambia', 'Cook Islands', 'Albania',\n",
       "       'Swaziland', 'Burkina Faso', 'Burundi', 'Aruba', 'Nauru',\n",
       "       'Vietnam', 'Bhutan', 'Marshall Islands', 'Kiribati', 'Tonga',\n",
       "       'Kosovo', 'South Sudan', 'Lesotho'], dtype=object)"
      ]
     },
     "execution_count": 33,
     "metadata": {},
     "output_type": "execute_result"
    }
   ],
   "source": [
    "data_df[\"region\"].unique()"
   ]
  },
  {
   "attachments": {},
   "cell_type": "markdown",
   "metadata": {},
   "source": [
    "Let us replace all the Null values in the region dataframe with a string that reads \"Region Unknown\"."
   ]
  },
  {
   "cell_type": "code",
   "execution_count": 34,
   "metadata": {},
   "outputs": [],
   "source": [
    "data_df[\"region\"].fillna(\"Region Unknown\",inplace=True)"
   ]
  },
  {
   "attachments": {},
   "cell_type": "markdown",
   "metadata": {},
   "source": [
    "Since only the winners of their respective events will have either a `Gold`, a `Silver` or a `Bronze` medal against their names, Let us fill all the `Null Values` in the dataframe with a string that reads `\"Medal Not Won\"`. "
   ]
  },
  {
   "cell_type": "code",
   "execution_count": 35,
   "metadata": {},
   "outputs": [
    {
     "data": {
      "text/html": [
       "<style type=\"text/css\">\n",
       "#T_411af_row0_col0, #T_411af_row1_col5, #T_411af_row3_col9, #T_411af_row4_col3, #T_411af_row4_col4 {\n",
       "  background-color: #f7fcf5;\n",
       "  color: #000000;\n",
       "}\n",
       "#T_411af_row0_col3, #T_411af_row2_col3 {\n",
       "  background-color: #a0d99b;\n",
       "  color: #000000;\n",
       "}\n",
       "#T_411af_row0_col4, #T_411af_row0_col5, #T_411af_row1_col9, #T_411af_row3_col3, #T_411af_row4_col0 {\n",
       "  background-color: #00441b;\n",
       "  color: #f1f1f1;\n",
       "}\n",
       "#T_411af_row0_col9 {\n",
       "  background-color: #0e7936;\n",
       "  color: #f1f1f1;\n",
       "}\n",
       "#T_411af_row1_col0 {\n",
       "  background-color: #e1f3dc;\n",
       "  color: #000000;\n",
       "}\n",
       "#T_411af_row1_col3 {\n",
       "  background-color: #b4e1ad;\n",
       "  color: #000000;\n",
       "}\n",
       "#T_411af_row1_col4 {\n",
       "  background-color: #dbf1d6;\n",
       "  color: #000000;\n",
       "}\n",
       "#T_411af_row2_col0, #T_411af_row4_col9 {\n",
       "  background-color: #bce4b5;\n",
       "  color: #000000;\n",
       "}\n",
       "#T_411af_row2_col4, #T_411af_row3_col4 {\n",
       "  background-color: #40aa5d;\n",
       "  color: #f1f1f1;\n",
       "}\n",
       "#T_411af_row2_col5, #T_411af_row3_col5, #T_411af_row4_col5 {\n",
       "  background-color: #66bd6f;\n",
       "  color: #f1f1f1;\n",
       "}\n",
       "#T_411af_row2_col9 {\n",
       "  background-color: #d9f0d3;\n",
       "  color: #000000;\n",
       "}\n",
       "#T_411af_row3_col0 {\n",
       "  background-color: #8ed08b;\n",
       "  color: #000000;\n",
       "}\n",
       "</style>\n",
       "<table id=\"T_411af\">\n",
       "  <thead>\n",
       "    <tr>\n",
       "      <th class=\"blank level0\" >&nbsp;</th>\n",
       "      <th id=\"T_411af_level0_col0\" class=\"col_heading level0 col0\" >ID</th>\n",
       "      <th id=\"T_411af_level0_col1\" class=\"col_heading level0 col1\" >Name</th>\n",
       "      <th id=\"T_411af_level0_col2\" class=\"col_heading level0 col2\" >Sex</th>\n",
       "      <th id=\"T_411af_level0_col3\" class=\"col_heading level0 col3\" >Age</th>\n",
       "      <th id=\"T_411af_level0_col4\" class=\"col_heading level0 col4\" >Height</th>\n",
       "      <th id=\"T_411af_level0_col5\" class=\"col_heading level0 col5\" >Weight</th>\n",
       "      <th id=\"T_411af_level0_col6\" class=\"col_heading level0 col6\" >Team</th>\n",
       "      <th id=\"T_411af_level0_col7\" class=\"col_heading level0 col7\" >NOC</th>\n",
       "      <th id=\"T_411af_level0_col8\" class=\"col_heading level0 col8\" >Games</th>\n",
       "      <th id=\"T_411af_level0_col9\" class=\"col_heading level0 col9\" >Year</th>\n",
       "      <th id=\"T_411af_level0_col10\" class=\"col_heading level0 col10\" >Season</th>\n",
       "      <th id=\"T_411af_level0_col11\" class=\"col_heading level0 col11\" >City</th>\n",
       "      <th id=\"T_411af_level0_col12\" class=\"col_heading level0 col12\" >Sport</th>\n",
       "      <th id=\"T_411af_level0_col13\" class=\"col_heading level0 col13\" >Event</th>\n",
       "      <th id=\"T_411af_level0_col14\" class=\"col_heading level0 col14\" >Medal</th>\n",
       "      <th id=\"T_411af_level0_col15\" class=\"col_heading level0 col15\" >region</th>\n",
       "    </tr>\n",
       "  </thead>\n",
       "  <tbody>\n",
       "    <tr>\n",
       "      <th id=\"T_411af_level0_row0\" class=\"row_heading level0 row0\" >0</th>\n",
       "      <td id=\"T_411af_row0_col0\" class=\"data row0 col0\" >1</td>\n",
       "      <td id=\"T_411af_row0_col1\" class=\"data row0 col1\" >A Dijiang</td>\n",
       "      <td id=\"T_411af_row0_col2\" class=\"data row0 col2\" >M</td>\n",
       "      <td id=\"T_411af_row0_col3\" class=\"data row0 col3\" >24.000000</td>\n",
       "      <td id=\"T_411af_row0_col4\" class=\"data row0 col4\" >180.000000</td>\n",
       "      <td id=\"T_411af_row0_col5\" class=\"data row0 col5\" >80.000000</td>\n",
       "      <td id=\"T_411af_row0_col6\" class=\"data row0 col6\" >China</td>\n",
       "      <td id=\"T_411af_row0_col7\" class=\"data row0 col7\" >CHN</td>\n",
       "      <td id=\"T_411af_row0_col8\" class=\"data row0 col8\" >1992 Summer</td>\n",
       "      <td id=\"T_411af_row0_col9\" class=\"data row0 col9\" >1992</td>\n",
       "      <td id=\"T_411af_row0_col10\" class=\"data row0 col10\" >Summer</td>\n",
       "      <td id=\"T_411af_row0_col11\" class=\"data row0 col11\" >Barcelona</td>\n",
       "      <td id=\"T_411af_row0_col12\" class=\"data row0 col12\" >Basketball</td>\n",
       "      <td id=\"T_411af_row0_col13\" class=\"data row0 col13\" >Basketball Men's Basketball</td>\n",
       "      <td id=\"T_411af_row0_col14\" class=\"data row0 col14\" >Medal Not Won</td>\n",
       "      <td id=\"T_411af_row0_col15\" class=\"data row0 col15\" >China</td>\n",
       "    </tr>\n",
       "    <tr>\n",
       "      <th id=\"T_411af_level0_row1\" class=\"row_heading level0 row1\" >1</th>\n",
       "      <td id=\"T_411af_row1_col0\" class=\"data row1 col0\" >2</td>\n",
       "      <td id=\"T_411af_row1_col1\" class=\"data row1 col1\" >A Lamusi</td>\n",
       "      <td id=\"T_411af_row1_col2\" class=\"data row1 col2\" >M</td>\n",
       "      <td id=\"T_411af_row1_col3\" class=\"data row1 col3\" >23.000000</td>\n",
       "      <td id=\"T_411af_row1_col4\" class=\"data row1 col4\" >170.000000</td>\n",
       "      <td id=\"T_411af_row1_col5\" class=\"data row1 col5\" >60.000000</td>\n",
       "      <td id=\"T_411af_row1_col6\" class=\"data row1 col6\" >China</td>\n",
       "      <td id=\"T_411af_row1_col7\" class=\"data row1 col7\" >CHN</td>\n",
       "      <td id=\"T_411af_row1_col8\" class=\"data row1 col8\" >2012 Summer</td>\n",
       "      <td id=\"T_411af_row1_col9\" class=\"data row1 col9\" >2012</td>\n",
       "      <td id=\"T_411af_row1_col10\" class=\"data row1 col10\" >Summer</td>\n",
       "      <td id=\"T_411af_row1_col11\" class=\"data row1 col11\" >London</td>\n",
       "      <td id=\"T_411af_row1_col12\" class=\"data row1 col12\" >Judo</td>\n",
       "      <td id=\"T_411af_row1_col13\" class=\"data row1 col13\" >Judo Men's Extra-Lightweight</td>\n",
       "      <td id=\"T_411af_row1_col14\" class=\"data row1 col14\" >Medal Not Won</td>\n",
       "      <td id=\"T_411af_row1_col15\" class=\"data row1 col15\" >China</td>\n",
       "    </tr>\n",
       "    <tr>\n",
       "      <th id=\"T_411af_level0_row2\" class=\"row_heading level0 row2\" >2</th>\n",
       "      <td id=\"T_411af_row2_col0\" class=\"data row2 col0\" >3</td>\n",
       "      <td id=\"T_411af_row2_col1\" class=\"data row2 col1\" >Gunnar Nielsen Aaby</td>\n",
       "      <td id=\"T_411af_row2_col2\" class=\"data row2 col2\" >M</td>\n",
       "      <td id=\"T_411af_row2_col3\" class=\"data row2 col3\" >24.000000</td>\n",
       "      <td id=\"T_411af_row2_col4\" class=\"data row2 col4\" >175.515551</td>\n",
       "      <td id=\"T_411af_row2_col5\" class=\"data row2 col5\" >70.689060</td>\n",
       "      <td id=\"T_411af_row2_col6\" class=\"data row2 col6\" >Denmark</td>\n",
       "      <td id=\"T_411af_row2_col7\" class=\"data row2 col7\" >DEN</td>\n",
       "      <td id=\"T_411af_row2_col8\" class=\"data row2 col8\" >1920 Summer</td>\n",
       "      <td id=\"T_411af_row2_col9\" class=\"data row2 col9\" >1920</td>\n",
       "      <td id=\"T_411af_row2_col10\" class=\"data row2 col10\" >Summer</td>\n",
       "      <td id=\"T_411af_row2_col11\" class=\"data row2 col11\" >Antwerpen</td>\n",
       "      <td id=\"T_411af_row2_col12\" class=\"data row2 col12\" >Football</td>\n",
       "      <td id=\"T_411af_row2_col13\" class=\"data row2 col13\" >Football Men's Football</td>\n",
       "      <td id=\"T_411af_row2_col14\" class=\"data row2 col14\" >Medal Not Won</td>\n",
       "      <td id=\"T_411af_row2_col15\" class=\"data row2 col15\" >Denmark</td>\n",
       "    </tr>\n",
       "    <tr>\n",
       "      <th id=\"T_411af_level0_row3\" class=\"row_heading level0 row3\" >3</th>\n",
       "      <td id=\"T_411af_row3_col0\" class=\"data row3 col0\" >4</td>\n",
       "      <td id=\"T_411af_row3_col1\" class=\"data row3 col1\" >Edgar Lindenau Aabye</td>\n",
       "      <td id=\"T_411af_row3_col2\" class=\"data row3 col2\" >M</td>\n",
       "      <td id=\"T_411af_row3_col3\" class=\"data row3 col3\" >34.000000</td>\n",
       "      <td id=\"T_411af_row3_col4\" class=\"data row3 col4\" >175.515551</td>\n",
       "      <td id=\"T_411af_row3_col5\" class=\"data row3 col5\" >70.689060</td>\n",
       "      <td id=\"T_411af_row3_col6\" class=\"data row3 col6\" >Denmark/Sweden</td>\n",
       "      <td id=\"T_411af_row3_col7\" class=\"data row3 col7\" >DEN</td>\n",
       "      <td id=\"T_411af_row3_col8\" class=\"data row3 col8\" >1900 Summer</td>\n",
       "      <td id=\"T_411af_row3_col9\" class=\"data row3 col9\" >1900</td>\n",
       "      <td id=\"T_411af_row3_col10\" class=\"data row3 col10\" >Summer</td>\n",
       "      <td id=\"T_411af_row3_col11\" class=\"data row3 col11\" >Paris</td>\n",
       "      <td id=\"T_411af_row3_col12\" class=\"data row3 col12\" >Tug-Of-War</td>\n",
       "      <td id=\"T_411af_row3_col13\" class=\"data row3 col13\" >Tug-Of-War Men's Tug-Of-War</td>\n",
       "      <td id=\"T_411af_row3_col14\" class=\"data row3 col14\" >Gold</td>\n",
       "      <td id=\"T_411af_row3_col15\" class=\"data row3 col15\" >Denmark</td>\n",
       "    </tr>\n",
       "    <tr>\n",
       "      <th id=\"T_411af_level0_row4\" class=\"row_heading level0 row4\" >4</th>\n",
       "      <td id=\"T_411af_row4_col0\" class=\"data row4 col0\" >8</td>\n",
       "      <td id=\"T_411af_row4_col1\" class=\"data row4 col1\" >Cornelia \"Cor\" Aalten (-Strannood)</td>\n",
       "      <td id=\"T_411af_row4_col2\" class=\"data row4 col2\" >F</td>\n",
       "      <td id=\"T_411af_row4_col3\" class=\"data row4 col3\" >18.000000</td>\n",
       "      <td id=\"T_411af_row4_col4\" class=\"data row4 col4\" >168.000000</td>\n",
       "      <td id=\"T_411af_row4_col5\" class=\"data row4 col5\" >70.689060</td>\n",
       "      <td id=\"T_411af_row4_col6\" class=\"data row4 col6\" >Netherlands</td>\n",
       "      <td id=\"T_411af_row4_col7\" class=\"data row4 col7\" >NED</td>\n",
       "      <td id=\"T_411af_row4_col8\" class=\"data row4 col8\" >1932 Summer</td>\n",
       "      <td id=\"T_411af_row4_col9\" class=\"data row4 col9\" >1932</td>\n",
       "      <td id=\"T_411af_row4_col10\" class=\"data row4 col10\" >Summer</td>\n",
       "      <td id=\"T_411af_row4_col11\" class=\"data row4 col11\" >Los Angeles</td>\n",
       "      <td id=\"T_411af_row4_col12\" class=\"data row4 col12\" >Athletics</td>\n",
       "      <td id=\"T_411af_row4_col13\" class=\"data row4 col13\" >Athletics Women's 100 metres</td>\n",
       "      <td id=\"T_411af_row4_col14\" class=\"data row4 col14\" >Medal Not Won</td>\n",
       "      <td id=\"T_411af_row4_col15\" class=\"data row4 col15\" >Netherlands</td>\n",
       "    </tr>\n",
       "  </tbody>\n",
       "</table>\n"
      ],
      "text/plain": [
       "<pandas.io.formats.style.Styler at 0x2abddac9e80>"
      ]
     },
     "execution_count": 35,
     "metadata": {},
     "output_type": "execute_result"
    }
   ],
   "source": [
    "data_df['Medal'].fillna(value=\"Medal Not Won\",inplace=True)\n",
    "data_df.head().style.background_gradient(cmap='Greens',axis=0)"
   ]
  },
  {
   "cell_type": "code",
   "execution_count": 36,
   "metadata": {},
   "outputs": [
    {
     "data": {
      "text/plain": [
       "ID        0\n",
       "Name      0\n",
       "Sex       0\n",
       "Age       0\n",
       "Height    0\n",
       "Weight    0\n",
       "Team      0\n",
       "NOC       0\n",
       "Games     0\n",
       "Year      0\n",
       "Season    0\n",
       "City      0\n",
       "Sport     0\n",
       "Event     0\n",
       "Medal     0\n",
       "region    0\n",
       "dtype: int64"
      ]
     },
     "execution_count": 36,
     "metadata": {},
     "output_type": "execute_result"
    }
   ],
   "source": [
    "data_df.isnull().sum()"
   ]
  },
  {
   "attachments": {},
   "cell_type": "markdown",
   "metadata": {},
   "source": [
    "Now let us check if our dataset has any duplicate values."
   ]
  },
  {
   "cell_type": "code",
   "execution_count": 37,
   "metadata": {},
   "outputs": [
    {
     "data": {
      "text/plain": [
       "0         False\n",
       "1         False\n",
       "2         False\n",
       "3         False\n",
       "4         False\n",
       "          ...  \n",
       "222547    False\n",
       "222548    False\n",
       "222549    False\n",
       "222550    False\n",
       "222551    False\n",
       "Length: 222552, dtype: bool"
      ]
     },
     "execution_count": 37,
     "metadata": {},
     "output_type": "execute_result"
    }
   ],
   "source": [
    "data_df.duplicated()"
   ]
  },
  {
   "cell_type": "code",
   "execution_count": 38,
   "metadata": {},
   "outputs": [
    {
     "data": {
      "text/plain": [
       "1385"
      ]
     },
     "execution_count": 38,
     "metadata": {},
     "output_type": "execute_result"
    }
   ],
   "source": [
    "data_df.duplicated().sum()"
   ]
  },
  {
   "attachments": {},
   "cell_type": "markdown",
   "metadata": {},
   "source": [
    "Let's drop these duplicate values using the `.drop_duplicates()` method. The argument `keep = 'First'`will ensure that pandas deletes all the duplicate rows, but for the first one!"
   ]
  },
  {
   "cell_type": "code",
   "execution_count": 39,
   "metadata": {},
   "outputs": [
    {
     "data": {
      "text/plain": [
       "0"
      ]
     },
     "execution_count": 39,
     "metadata": {},
     "output_type": "execute_result"
    }
   ],
   "source": [
    "data_df.drop_duplicates(keep='first',inplace=True)\n",
    "data_df.duplicated().sum()"
   ]
  },
  {
   "attachments": {},
   "cell_type": "markdown",
   "metadata": {},
   "source": [
    "Before we head to the `Data Visualisation` section, there is a anomaly that requires our attention. To showcase this anomaly, let me get all the all-time gold medals won by India in the Olympics "
   ]
  },
  {
   "cell_type": "code",
   "execution_count": 41,
   "metadata": {},
   "outputs": [
    {
     "data": {
      "text/html": [
       "<div>\n",
       "<style scoped>\n",
       "    .dataframe tbody tr th:only-of-type {\n",
       "        vertical-align: middle;\n",
       "    }\n",
       "\n",
       "    .dataframe tbody tr th {\n",
       "        vertical-align: top;\n",
       "    }\n",
       "\n",
       "    .dataframe thead th {\n",
       "        text-align: right;\n",
       "    }\n",
       "</style>\n",
       "<table border=\"1\" class=\"dataframe\">\n",
       "  <thead>\n",
       "    <tr style=\"text-align: right;\">\n",
       "      <th></th>\n",
       "      <th>ID</th>\n",
       "      <th>Name</th>\n",
       "      <th>Sex</th>\n",
       "      <th>Age</th>\n",
       "      <th>Height</th>\n",
       "      <th>Weight</th>\n",
       "      <th>Team</th>\n",
       "      <th>NOC</th>\n",
       "      <th>Games</th>\n",
       "      <th>Year</th>\n",
       "      <th>Season</th>\n",
       "      <th>City</th>\n",
       "      <th>Sport</th>\n",
       "      <th>Event</th>\n",
       "      <th>Medal</th>\n",
       "      <th>region</th>\n",
       "    </tr>\n",
       "  </thead>\n",
       "  <tbody>\n",
       "    <tr>\n",
       "      <th>4186</th>\n",
       "      <td>2699</td>\n",
       "      <td>Shaukat Ali</td>\n",
       "      <td>M</td>\n",
       "      <td>30.0</td>\n",
       "      <td>175.515551</td>\n",
       "      <td>70.68906</td>\n",
       "      <td>India</td>\n",
       "      <td>IND</td>\n",
       "      <td>1928 Summer</td>\n",
       "      <td>1928</td>\n",
       "      <td>Summer</td>\n",
       "      <td>Amsterdam</td>\n",
       "      <td>Hockey</td>\n",
       "      <td>Hockey Men's Hockey</td>\n",
       "      <td>Gold</td>\n",
       "      <td>India</td>\n",
       "    </tr>\n",
       "    <tr>\n",
       "      <th>4190</th>\n",
       "      <td>2703</td>\n",
       "      <td>Syed Mushtaq Ali</td>\n",
       "      <td>M</td>\n",
       "      <td>22.0</td>\n",
       "      <td>165.000000</td>\n",
       "      <td>61.00000</td>\n",
       "      <td>India</td>\n",
       "      <td>IND</td>\n",
       "      <td>1964 Summer</td>\n",
       "      <td>1964</td>\n",
       "      <td>Summer</td>\n",
       "      <td>Tokyo</td>\n",
       "      <td>Hockey</td>\n",
       "      <td>Hockey Men's Hockey</td>\n",
       "      <td>Gold</td>\n",
       "      <td>India</td>\n",
       "    </tr>\n",
       "    <tr>\n",
       "      <th>4460</th>\n",
       "      <td>2864</td>\n",
       "      <td>Richard James Allen</td>\n",
       "      <td>M</td>\n",
       "      <td>25.0</td>\n",
       "      <td>172.000000</td>\n",
       "      <td>70.68906</td>\n",
       "      <td>India</td>\n",
       "      <td>IND</td>\n",
       "      <td>1928 Summer</td>\n",
       "      <td>1928</td>\n",
       "      <td>Summer</td>\n",
       "      <td>Amsterdam</td>\n",
       "      <td>Hockey</td>\n",
       "      <td>Hockey Men's Hockey</td>\n",
       "      <td>Gold</td>\n",
       "      <td>India</td>\n",
       "    </tr>\n",
       "    <tr>\n",
       "      <th>4461</th>\n",
       "      <td>2864</td>\n",
       "      <td>Richard James Allen</td>\n",
       "      <td>M</td>\n",
       "      <td>30.0</td>\n",
       "      <td>172.000000</td>\n",
       "      <td>70.68906</td>\n",
       "      <td>India</td>\n",
       "      <td>IND</td>\n",
       "      <td>1932 Summer</td>\n",
       "      <td>1932</td>\n",
       "      <td>Summer</td>\n",
       "      <td>Los Angeles</td>\n",
       "      <td>Hockey</td>\n",
       "      <td>Hockey Men's Hockey</td>\n",
       "      <td>Gold</td>\n",
       "      <td>India</td>\n",
       "    </tr>\n",
       "    <tr>\n",
       "      <th>4462</th>\n",
       "      <td>2864</td>\n",
       "      <td>Richard James Allen</td>\n",
       "      <td>M</td>\n",
       "      <td>34.0</td>\n",
       "      <td>172.000000</td>\n",
       "      <td>70.68906</td>\n",
       "      <td>India</td>\n",
       "      <td>IND</td>\n",
       "      <td>1936 Summer</td>\n",
       "      <td>1936</td>\n",
       "      <td>Summer</td>\n",
       "      <td>Berlin</td>\n",
       "      <td>Hockey</td>\n",
       "      <td>Hockey Men's Hockey</td>\n",
       "      <td>Gold</td>\n",
       "      <td>India</td>\n",
       "    </tr>\n",
       "  </tbody>\n",
       "</table>\n",
       "</div>"
      ],
      "text/plain": [
       "        ID                 Name Sex   Age      Height    Weight   Team  NOC  \\\n",
       "4186  2699          Shaukat Ali   M  30.0  175.515551  70.68906  India  IND   \n",
       "4190  2703     Syed Mushtaq Ali   M  22.0  165.000000  61.00000  India  IND   \n",
       "4460  2864  Richard James Allen   M  25.0  172.000000  70.68906  India  IND   \n",
       "4461  2864  Richard James Allen   M  30.0  172.000000  70.68906  India  IND   \n",
       "4462  2864  Richard James Allen   M  34.0  172.000000  70.68906  India  IND   \n",
       "\n",
       "            Games  Year  Season         City   Sport                Event  \\\n",
       "4186  1928 Summer  1928  Summer    Amsterdam  Hockey  Hockey Men's Hockey   \n",
       "4190  1964 Summer  1964  Summer        Tokyo  Hockey  Hockey Men's Hockey   \n",
       "4460  1928 Summer  1928  Summer    Amsterdam  Hockey  Hockey Men's Hockey   \n",
       "4461  1932 Summer  1932  Summer  Los Angeles  Hockey  Hockey Men's Hockey   \n",
       "4462  1936 Summer  1936  Summer       Berlin  Hockey  Hockey Men's Hockey   \n",
       "\n",
       "     Medal region  \n",
       "4186  Gold  India  \n",
       "4190  Gold  India  \n",
       "4460  Gold  India  \n",
       "4461  Gold  India  \n",
       "4462  Gold  India  "
      ]
     },
     "execution_count": 41,
     "metadata": {},
     "output_type": "execute_result"
    }
   ],
   "source": [
    "data_df[(data_df[\"Team\"]==\"India\") & (data_df[\"Medal\"]==\"Gold\")].head()"
   ]
  },
  {
   "cell_type": "code",
   "execution_count": 42,
   "metadata": {},
   "outputs": [
    {
     "data": {
      "text/plain": [
       "131"
      ]
     },
     "execution_count": 42,
     "metadata": {},
     "output_type": "execute_result"
    }
   ],
   "source": [
    "len(data_df[(data_df[\"Team\"]==\"India\") & (data_df[\"Medal\"]==\"Gold\")])"
   ]
  },
  {
   "attachments": {},
   "cell_type": "markdown",
   "metadata": {},
   "source": [
    "- 131 gold medals! Now a quick Google search will return the fact that India has not won over 131 Gold medals in the Olympics. \n",
    "- So is our dataset wrong? Well not exactly, here, instead of tallying the medal of a team event as one medal to the nation, `Pandas` is counting and giving us a summation of all the individials who were a part of the team.\n",
    "- For now let us leave this as it as. This will not have a big impact on our visulisations as very `country` in this dataset will have this advantage!"
   ]
  },
  {
   "attachments": {},
   "cell_type": "markdown",
   "metadata": {},
   "source": [
    "> EDA not completed yet!"
   ]
  }
 ],
 "metadata": {
  "kernelspec": {
   "display_name": "Python 3",
   "language": "python",
   "name": "python3"
  },
  "language_info": {
   "codemirror_mode": {
    "name": "ipython",
    "version": 3
   },
   "file_extension": ".py",
   "mimetype": "text/x-python",
   "name": "python",
   "nbconvert_exporter": "python",
   "pygments_lexer": "ipython3",
   "version": "3.9.0"
  },
  "orig_nbformat": 4,
  "vscode": {
   "interpreter": {
    "hash": "11938c6bc6919ae2720b4d5011047913343b08a43b18698fd82dedb0d4417594"
   }
  }
 },
 "nbformat": 4,
 "nbformat_minor": 2
}
